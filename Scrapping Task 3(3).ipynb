{
 "cells": [
  {
   "cell_type": "code",
   "execution_count": 7,
   "id": "1fd52192",
   "metadata": {},
   "outputs": [],
   "source": [
    "#importing basic libraries required\n",
    "from bs4 import BeautifulSoup\n",
    "import requests\n",
    "import pandas as pd\n",
    "import numpy as np\n",
    "from google_play_scraper import app"
   ]
  },
  {
   "cell_type": "code",
   "execution_count": 8,
   "id": "dc9b14d3",
   "metadata": {},
   "outputs": [],
   "source": [
    "#the given url\n",
    "URL = \"https://play.google.com/store/apps/details?id=com.knudge.me\""
   ]
  },
  {
   "cell_type": "code",
   "execution_count": 9,
   "id": "3802a08d",
   "metadata": {},
   "outputs": [],
   "source": [
    "#adding user agent\n",
    "HEADERS=({'User-Agent':'Mozilla/5.0 (Windows NT 10.0; Win64; x64) AppleWebKit/537.36 (KHTML, like Gecko) Chrome/111.0.0.0 Safari/537.36','Accept-Language':'en-US, en; q=0.5'})"
   ]
  },
  {
   "cell_type": "code",
   "execution_count": 10,
   "id": "1dd313c6",
   "metadata": {},
   "outputs": [],
   "source": [
    "#http request\n",
    "webpage=requests.get(URL,headers=HEADERS)\n",
    "#creating soup object to contain all the data\n",
    "soup=BeautifulSoup(webpage.content,'html.parser')\n",
    "#declaring a dictionary\n",
    "d={'Name':'','Maker':'','Downloads':'','Rating':'','Review Count':'','Email':'','Similar App':[]}"
   ]
  },
  {
   "cell_type": "code",
   "execution_count": 11,
   "id": "55c8c2fe",
   "metadata": {},
   "outputs": [],
   "source": [
    "#extracting the name of the app using the h1 attribute and class name\n",
    "name=soup.find(\"h1\",attrs={'class':'Fd93Bb F5UCq p5VxAd'}).text #.text is used to extract the string part\n",
    "#Storing the name in dictionary\n",
    "d['Name']=name"
   ]
  },
  {
   "cell_type": "code",
   "execution_count": 12,
   "id": "b0753251",
   "metadata": {},
   "outputs": [
    {
     "data": {
      "text/plain": [
       "'Improve English: Vocab,Grammar'"
      ]
     },
     "execution_count": 12,
     "metadata": {},
     "output_type": "execute_result"
    }
   ],
   "source": [
    "#printing the name of the app\n",
    "name"
   ]
  },
  {
   "cell_type": "code",
   "execution_count": 13,
   "id": "d09b14ef",
   "metadata": {},
   "outputs": [],
   "source": [
    "#extracting the developer's name\n",
    "maker=soup.find(\"div\",attrs={'class':'Vbfug auoIOc'}).text\n",
    "#Storing the developer's name in dictionary\n",
    "d['Maker']=maker"
   ]
  },
  {
   "cell_type": "code",
   "execution_count": 14,
   "id": "aafcc34e",
   "metadata": {},
   "outputs": [
    {
     "data": {
      "text/plain": [
       "'Knudge.me'"
      ]
     },
     "execution_count": 14,
     "metadata": {},
     "output_type": "execute_result"
    }
   ],
   "source": [
    "#printing the name of the developer\n",
    "maker"
   ]
  },
  {
   "cell_type": "code",
   "execution_count": 15,
   "id": "8af37c53",
   "metadata": {},
   "outputs": [],
   "source": [
    "#extracting the rating of the app\n",
    "rating=soup.find(\"div\",attrs={'class':'ClM7O'}).text\n",
    "#Storing the rating in dictionary\n",
    "d['Rating']=rating"
   ]
  },
  {
   "cell_type": "code",
   "execution_count": 16,
   "id": "5aac2e20",
   "metadata": {},
   "outputs": [
    {
     "data": {
      "text/plain": [
       "'4.5star'"
      ]
     },
     "execution_count": 16,
     "metadata": {},
     "output_type": "execute_result"
    }
   ],
   "source": [
    "#printing the rating of the app\n",
    "rating"
   ]
  },
  {
   "cell_type": "code",
   "execution_count": 17,
   "id": "6d1bf6cf",
   "metadata": {},
   "outputs": [],
   "source": [
    "#to extract just the value of rating\n",
    "rating2=soup.find(\"div\",attrs={'class':'jILTFe'}).text"
   ]
  },
  {
   "cell_type": "code",
   "execution_count": 18,
   "id": "4cfb6514",
   "metadata": {},
   "outputs": [
    {
     "data": {
      "text/plain": [
       "'4.5'"
      ]
     },
     "execution_count": 18,
     "metadata": {},
     "output_type": "execute_result"
    }
   ],
   "source": [
    "rating2"
   ]
  },
  {
   "cell_type": "code",
   "execution_count": 19,
   "id": "93839cbf",
   "metadata": {},
   "outputs": [],
   "source": [
    "#extracting the number of reviews\n",
    "reviews=soup.find(\"div\",attrs={'class':'g1rdde'}).text\n",
    "#Storing the review count in dictionary\n",
    "d['Review Count']=reviews"
   ]
  },
  {
   "cell_type": "code",
   "execution_count": 20,
   "id": "55538972",
   "metadata": {},
   "outputs": [
    {
     "data": {
      "text/plain": [
       "'54.6K reviews'"
      ]
     },
     "execution_count": 20,
     "metadata": {},
     "output_type": "execute_result"
    }
   ],
   "source": [
    "#printing the review count\n",
    "reviews"
   ]
  },
  {
   "cell_type": "code",
   "execution_count": 21,
   "id": "31c7f50b",
   "metadata": {},
   "outputs": [
    {
     "data": {
      "text/plain": [
       "{'title': 'Improve English: Vocab,Grammar',\n",
       " 'description': \"<b>Knudge.me helps you learn Vocabulary, Grammar and Math with the help of bite-sized courses, visual flashcards, quizzes and games.</b>\\r\\n\\r\\nCourses: English Vocabulary, Grammar, Idioms, Phrasal Verbs, Math tips and tricks, Ratio and Proportion, Progression, Averages etc.\\r\\n\\r\\nThe platform works on the scientific algorithms specially designed to help you learn and improve English & practice Math. Quizlet like visual flashcards enables learning on-the-go. Scientifically designed games and spaced repetition of flashcards are the best ways to revise and reinforce.\\r\\n\\r\\nFlashcards Courses that help you take a leap in your career:\\r\\n\\r\\n<b>1. Vocabulary Builder – Easy</b>: \\xa0Learn English with these most commonly used words. Handy flashcards make it easier to memorise, improve vocabulary, and learn English in an enjoyable way.\\r\\n<b>2. Vocabulary Builder – Intermediate</b>: A must-learn wordlist to elevate your English vocabulary. It comprises of 200+ words which will help improve English smoothly. Highly helpful for aspirants who want to achieve a good score in exams like <b>CAT, GRE, GMAT, IELTS & TOEFL</b>.\\r\\n<b>3. Vocabulary Builder – Advanced</b>: Entrance exams require an extensive English vocabulary. This wordlist can be helpful for improving vocabulary required for competitive exams like GRE, GMAT, IELTS etc.\\r\\n<b>4. English Idioms</b>: 250 common English idioms to help you improve your writing and speaking skills.\\r\\n<b>5. Phrasal Verbs</b>: This course will help you easily understand the use of the most frequently used English phrasal verbs and help you excel in exams like <b> XAT & NMAT</b>.\\r\\n<b>6. Commonly Confused Words</b>: This course will help you learn more than 200 homonyms, homophones, and other confusing words.\\r\\n\\r\\nWord of the Day concept for these courses helps you learn on-the-go and become a scholar!\\r\\n\\r\\n<b>Minis Courses</b>\\r\\n\\r\\nBite-sized interactive English and Math courses which focus on English Grammar, Proverbs, Prepositions, Punctuations, Conjunctions, Nouns, Verbs, Adjectives and many more such topics. \\r\\n\\r\\nAspirants of IELTS, GRE, GMAT, TOEFL use Knudge for improving their English and Math skills.\\r\\nUsers of Knudge do not need assistive writing tools like Grammarly after a few weeks.\\r\\n\\r\\n<b>Games</b>\\r\\n\\r\\n<b>1. Words Checker</b>: Improve reading skills & elevate your vocabulary by playing this fun word game.\\r\\n<b>2. Space Pursuit</b>: Improve writing skills by learning to tackle commonly confused English words. \\xa0\\r\\n<b>3. Fly High</b>: Build your vocabulary by learning synonyms. \\r\\n<b>4. Reader's Digest</b>: Improve reading skills by focussing on speed, accuracy, and comprehension.\\r\\n<b>5. Echo</b>: Improve speaking and writing skills by correctly spelling words in this English dictation game. \\r\\n<b>6. Jelly Fizz</b>: Improve speaking skills by learning phrasal verbs in a fun way.\\r\\n<b>7. Panda's Trail</b>: This game makes you self-capable in English Grammar and eliminates the need for correction tools like Grammarly.\\r\\n<b>8. Sea Voyage</b>: Challenge your reading speed and retention by playing this engaging game.\\r\\n<b>9. Word Maze</b>: Challenge your vocabulary knowledge and quick-thinking ability by playing this word game.\\r\\n<b>10. Spell Safe</b>: Learn to spell words that have confusing spellings.\\r\\n<b>11. Polarity</b>: Learn the positive and negative shades of meaning attached to words.\\r\\n<b>12. Words Race</b>: Improve your reading speed and accuracy.\\r\\n\\r\\n<b>FEATURES</b>\\r\\n• Personalised and Adaptive Vocabulary revision tests\\r\\n• Interactive Mini courses for better understanding of English and Math concepts\\r\\n• Interesting Word Games to help you improve your Vocabulary, Grammar, Dictation, Pronunciation, Comprehension etc.\\r\\n• Effective English vocabulary builder and grammar app\\r\\n• pronunciation games to help you improve listening and speaking skills\\r\\n• <b>Word of the Day</b> concept for aspirants of vocabulary based competitive tests\\r\\n\\r\\n<b>Download the app for free and discover a fun way to learn English and practice Math. Learning on your mobile just got easier!</b>\",\n",
       " 'descriptionHTML': '<b>Knudge.me helps you learn Vocabulary, Grammar and Math with the help of bite-sized courses, visual flashcards, quizzes and games.</b><br><br>Courses: English Vocabulary, Grammar, Idioms, Phrasal Verbs, Math tips and tricks, Ratio and Proportion, Progression, Averages etc.<br><br>The platform works on the scientific algorithms specially designed to help you learn and improve English &amp; practice Math. Quizlet like visual flashcards enables learning on-the-go. Scientifically designed games and spaced repetition of flashcards are the best ways to revise and reinforce.<br><br>Flashcards Courses that help you take a leap in your career:<br><br><b>1. Vocabulary Builder – Easy</b>: \\xa0Learn English with these most commonly used words. Handy flashcards make it easier to memorise, improve vocabulary, and learn English in an enjoyable way.<br><b>2. Vocabulary Builder – Intermediate</b>: A must-learn wordlist to elevate your English vocabulary. It comprises of 200+ words which will help improve English smoothly. Highly helpful for aspirants who want to achieve a good score in exams like <b>CAT, GRE, GMAT, IELTS &amp; TOEFL</b>.<br><b>3. Vocabulary Builder – Advanced</b>: Entrance exams require an extensive English vocabulary. This wordlist can be helpful for improving vocabulary required for competitive exams like GRE, GMAT, IELTS etc.<br><b>4. English Idioms</b>: 250 common English idioms to help you improve your writing and speaking skills.<br><b>5. Phrasal Verbs</b>: This course will help you easily understand the use of the most frequently used English phrasal verbs and help you excel in exams like <b> XAT &amp; NMAT</b>.<br><b>6. Commonly Confused Words</b>: This course will help you learn more than 200 homonyms, homophones, and other confusing words.<br><br>Word of the Day concept for these courses helps you learn on-the-go and become a scholar!<br><br><b>Minis Courses</b><br><br>Bite-sized interactive English and Math courses which focus on English Grammar, Proverbs, Prepositions, Punctuations, Conjunctions, Nouns, Verbs, Adjectives and many more such topics. <br><br>Aspirants of IELTS, GRE, GMAT, TOEFL use Knudge for improving their English and Math skills.<br>Users of Knudge do not need assistive writing tools like Grammarly after a few weeks.<br><br><b>Games</b><br><br><b>1. Words Checker</b>: Improve reading skills &amp; elevate your vocabulary by playing this fun word game.<br><b>2. Space Pursuit</b>: Improve writing skills by learning to tackle commonly confused English words. \\xa0<br><b>3. Fly High</b>: Build your vocabulary by learning synonyms. <br><b>4. Reader&#39;s Digest</b>: Improve reading skills by focussing on speed, accuracy, and comprehension.<br><b>5. Echo</b>: Improve speaking and writing skills by correctly spelling words in this English dictation game. <br><b>6. Jelly Fizz</b>: Improve speaking skills by learning phrasal verbs in a fun way.<br><b>7. Panda&#39;s Trail</b>: This game makes you self-capable in English Grammar and eliminates the need for correction tools like Grammarly.<br><b>8. Sea Voyage</b>: Challenge your reading speed and retention by playing this engaging game.<br><b>9. Word Maze</b>: Challenge your vocabulary knowledge and quick-thinking ability by playing this word game.<br><b>10. Spell Safe</b>: Learn to spell words that have confusing spellings.<br><b>11. Polarity</b>: Learn the positive and negative shades of meaning attached to words.<br><b>12. Words Race</b>: Improve your reading speed and accuracy.<br><br><b>FEATURES</b><br>• Personalised and Adaptive Vocabulary revision tests<br>• Interactive Mini courses for better understanding of English and Math concepts<br>• Interesting Word Games to help you improve your Vocabulary, Grammar, Dictation, Pronunciation, Comprehension etc.<br>• Effective English vocabulary builder and grammar app<br>• pronunciation games to help you improve listening and speaking skills<br>• <b>Word of the Day</b> concept for aspirants of vocabulary based competitive tests<br><br><b>Download the app for free and discover a fun way to learn English and practice Math. Learning on your mobile just got easier!</b>',\n",
       " 'summary': 'Vocabulary Builder, Grammar, Word of the Day, Elevate your Vocabulary & Spelling',\n",
       " 'installs': '5,000,000+',\n",
       " 'minInstalls': 5000000,\n",
       " 'realInstalls': 5135741,\n",
       " 'score': 4.3495936,\n",
       " 'ratings': 54550,\n",
       " 'reviews': 1299,\n",
       " 'histogram': [4432, 1182, 3693, 6796, 38430],\n",
       " 'price': 0,\n",
       " 'free': True,\n",
       " 'currency': 'USD',\n",
       " 'sale': False,\n",
       " 'saleTime': None,\n",
       " 'originalPrice': None,\n",
       " 'saleText': None,\n",
       " 'offersIAP': True,\n",
       " 'inAppProductPrice': '$0.99 - $74.99 per item',\n",
       " 'developer': 'Knudge.me',\n",
       " 'developerId': 'Knudge.me',\n",
       " 'developerEmail': 'contact@knudge.me',\n",
       " 'developerWebsite': 'http://www.knudge.me/',\n",
       " 'developerAddress': '2nd floor, Workshaala,\\nNo-154, Jakkasandra, 1st Block-Koramangala, Bengaluru, Karnataka-560034, India',\n",
       " 'privacyPolicy': 'http://knudge.me/privacy-policy.html',\n",
       " 'genre': 'Education',\n",
       " 'genreId': 'EDUCATION',\n",
       " 'icon': 'https://play-lh.googleusercontent.com/SBQv0JWRIaWcCZsemHWyM4E-PeeA8T4Gexu9d8Td8XpDYCFzelh7EEsh6r8z0mN3Ccna',\n",
       " 'headerImage': 'https://play-lh.googleusercontent.com/yj0LRP3JiQf2vO3Fm3vj5BigSmyYZpPXYvvEN7Nqd91Q0g_4kgiB1LhS9ML8EjeMBbI',\n",
       " 'screenshots': ['https://play-lh.googleusercontent.com/24b5WQPqlVmOr7blNSd-o-gJcnAZUTsKoaPDzvuRBqIohIqUI-IZq9fEpbqsQJRxg1b_',\n",
       "  'https://play-lh.googleusercontent.com/HdgDpw41tmNSca-DKBSBE1U25EpCrvvJyYVBGiwsBbdhSO1HAI4f3oTBDhJWAo-Fs-Q',\n",
       "  'https://play-lh.googleusercontent.com/zzKAhxkQ3iUaxCv2T-9mp1CPBhpQSYihfzXKM8ceHdbIECUOURgN6f5lk7cryOK2jg',\n",
       "  'https://play-lh.googleusercontent.com/rDnXbeITzLOQ03COY1pbbAqpz_hEctgVNPTdjH-r4JbSBySERGJJG9u5vo3Up83sCAs',\n",
       "  'https://play-lh.googleusercontent.com/xB3ePa60_-zzSYrA1F_t3Uoac6onccZlp9dGfVeEwqhdFaDgylCo1_IeGWlpOhegSjg',\n",
       "  'https://play-lh.googleusercontent.com/Qcfes6lQspjYRnUu9c5HQQ6lCSaURdzO8XBTDjmnxHtRZ0w2bJU1yIRosqldhthnvbP3',\n",
       "  'https://play-lh.googleusercontent.com/huQOCj3cLRL_g3ztDr73EecZqLGl7U_fL-_Og4tYPGTmP0hOOyRdYWs9yEcGgk4wIok',\n",
       "  'https://play-lh.googleusercontent.com/e_To4xNkkLXMd91zTomfRb47XUB98-41JiEnh96yXjlFwOl08rPHsuAis3advq-tqIAM',\n",
       "  'https://play-lh.googleusercontent.com/WcIQ5jBjznnf7ikF8qja2eO88hnCrEf8ola8SeK-ddd0Fmzdh_USlqLL4jX84hPpd4I',\n",
       "  'https://play-lh.googleusercontent.com/Fn5N3oXB1EOscaD_MezaV2IDufLqpj6BQklK_7JH5Jdv-N8cZgcpHu7jaml8zx17yA',\n",
       "  'https://play-lh.googleusercontent.com/g7rVKpOXzgfsyyEg5YajCcwLZ1eTccXn_gdnqWEwRpvSE0JvExFQ3jDK7a-bteBg0VcL',\n",
       "  'https://play-lh.googleusercontent.com/mcaXoFSLtzsEwx3KGQ6KqQ2BUE9uQMQdlOUY5Wt_qQncdwKLkAVC9xmB-JBfDsmhKB4q',\n",
       "  'https://play-lh.googleusercontent.com/1UMahr9MGMP7ugEuallzy5q-vKamFtmGCr_pD4UkdtS_G_GdfzlFZvqpcLATzLnMkYI',\n",
       "  'https://play-lh.googleusercontent.com/DswbxvEaUxJurEvn9u7VFS3EAqGLldwxo7vG-WReJTHNiaQ7IMF0JSB_SHlO1CJO8w',\n",
       "  'https://play-lh.googleusercontent.com/3jPVZN0WaOwWCfUfFuMe_8rk0-irhFW51PEucUtW8vrwOVJ7OjF4J6QSljvkgPLfAkk'],\n",
       " 'video': 'https://www.youtube.com/embed/O3mcmdVvkXw?ps=play&vq=large&rel=0&autohide=1&showinfo=0',\n",
       " 'videoImage': 'https://play-lh.googleusercontent.com/yj0LRP3JiQf2vO3Fm3vj5BigSmyYZpPXYvvEN7Nqd91Q0g_4kgiB1LhS9ML8EjeMBbI',\n",
       " 'contentRating': 'Everyone 10+',\n",
       " 'contentRatingDescription': None,\n",
       " 'adSupported': True,\n",
       " 'containsAds': True,\n",
       " 'released': 'Aug 18, 2016',\n",
       " 'updated': 1680330201,\n",
       " 'version': '3.0.4',\n",
       " 'comments': [],\n",
       " 'appId': 'com.knudge.me',\n",
       " 'url': 'https://play.google.com/store/apps/details?id=com.knudge.me&hl=en&gl=us'}"
      ]
     },
     "execution_count": 21,
     "metadata": {},
     "output_type": "execute_result"
    }
   ],
   "source": [
    "#to check if any email is present in the description\n",
    "result=app('com.knudge.me', lang='en',country='us')#the app function is used to view the detailed information of the app\n",
    "result"
   ]
  },
  {
   "cell_type": "code",
   "execution_count": 22,
   "id": "316c2d73",
   "metadata": {},
   "outputs": [
    {
     "data": {
      "text/plain": [
       "'contact@knudge.me'"
      ]
     },
     "execution_count": 22,
     "metadata": {},
     "output_type": "execute_result"
    }
   ],
   "source": [
    "#extracting and printing the email\n",
    "makermail=result.get('developerEmail')\n",
    "#Storing the email in dictionary\n",
    "d['Email']=makermail\n",
    "makermail"
   ]
  },
  {
   "cell_type": "code",
   "execution_count": 23,
   "id": "d7bf5069",
   "metadata": {},
   "outputs": [
    {
     "name": "stdout",
     "output_type": "stream",
     "text": [
      "5,000,000+\n",
      "5000000\n",
      "5135741\n"
     ]
    }
   ],
   "source": [
    "#extracting the total number of downloads\n",
    "install=result.get('installs')#approximated downloads\n",
    "print(install)\n",
    "mininstall=result.get('minInstalls')\n",
    "print(mininstall)\n",
    "realinstall=result.get('realInstalls')#real number of downloads\n",
    "print(realinstall)"
   ]
  },
  {
   "cell_type": "code",
   "execution_count": 24,
   "id": "8ba481de",
   "metadata": {},
   "outputs": [],
   "source": [
    "#Storing the number of downloads in dictionary\n",
    "d['Downloads']=install"
   ]
  },
  {
   "cell_type": "code",
   "execution_count": 25,
   "id": "08335d88",
   "metadata": {},
   "outputs": [],
   "source": [
    "#extracting the similar app links using the anchor tag and it's class name\n",
    "links=soup.find_all(\"a\",attrs={'class':'Si6A0c nT2RTe'})\n",
    "#Intialising 2 lists\n",
    "li=[] #to store the basic fetched links\n",
    "list_sim_app=[] #to store the complete links"
   ]
  },
  {
   "cell_type": "code",
   "execution_count": 26,
   "id": "66f9f5ac",
   "metadata": {},
   "outputs": [],
   "source": [
    "#fetching the basic links using the .get('href') function\n",
    "for i in links:\n",
    "    li.append(i.get('href'))"
   ]
  },
  {
   "cell_type": "code",
   "execution_count": 27,
   "id": "ffb9fc44",
   "metadata": {},
   "outputs": [],
   "source": [
    "#storing the complete link in the list\n",
    "c=0\n",
    "for i in li:\n",
    "    list_sim_app.append(\"https://play.google.com\"+i)     \n",
    "    c+=1\n",
    "list_sim_app\n",
    "for i in list_sim_app:\n",
    "    d['Similar App'].append(i)"
   ]
  },
  {
   "cell_type": "code",
   "execution_count": 28,
   "id": "c328949d",
   "metadata": {},
   "outputs": [
    {
     "data": {
      "text/plain": [
       "{'Name': 'Improve English: Vocab,Grammar',\n",
       " 'Maker': 'Knudge.me',\n",
       " 'Downloads': '5,000,000+',\n",
       " 'Rating': '4.5star',\n",
       " 'Review Count': '54.6K reviews',\n",
       " 'Email': 'contact@knudge.me',\n",
       " 'Similar App': ['https://play.google.com/store/apps/details?id=co.wordupapp.app',\n",
       "  'https://play.google.com/store/apps/details?id=com.vocabulary.wordoftheday',\n",
       "  'https://play.google.com/store/apps/details?id=com.kings.retailapp',\n",
       "  'https://play.google.com/store/apps/details?id=com.business.english.pod.droid',\n",
       "  'https://play.google.com/store/apps/details?id=com.hungdaovuong.sentencemaster.en',\n",
       "  'https://play.google.com/store/apps/details?id=com.galvanizetestprep.vocabbuilder']}"
      ]
     },
     "execution_count": 28,
     "metadata": {},
     "output_type": "execute_result"
    }
   ],
   "source": [
    "d"
   ]
  },
  {
   "cell_type": "code",
   "execution_count": 29,
   "id": "cf53033b",
   "metadata": {},
   "outputs": [],
   "source": [
    "data=pd.DataFrame.from_dict(d)\n",
    "data.to_csv(\"Scraped_data3.csv\",header=True,index=False)"
   ]
  },
  {
   "cell_type": "code",
   "execution_count": 30,
   "id": "8e760018",
   "metadata": {},
   "outputs": [
    {
     "data": {
      "text/plain": [
       "['Deepak Chhetrimore_vert Flag inappropriateJanuary 29, 2023The app is great! But it needs some contents to be refined and more content is required. This is because the cover letter writing exercises do not have description of the person who is writing the cover letter and that causes mismatch between our answers and apps, plus the games are very fun and engaging but would be great if we get more and more diffrent type of questions, I have seen some questions repeating itself throughout the game. So Knudge.me please look after this and optimize the app.34 people found this review helpfulDid you find this helpful?YesNo',\n",
       " 'Salman Parkarmore_vert Flag inappropriateShow review historyJanuary 6, 2021It it the Best App I have found so far to improve your English. The app is simple, on point, engaging, enjoyable. It offers much to improve your English vocabulary, grammar, learning with games, various courses and much more. The Pro version is totally worth it, you will never regret. It is one of the best Investments you could make. The Developer is also very prompt and helpful. Just go with it..👍🏻311 people found this review helpfulDid you find this helpful?YesNo',\n",
       " \"A Google usermore_vert Flag inappropriateShow review historySeptember 17, 2018Amazing approach used in app to teach u new words, even during one's busy schedule. Learning intensity and frequency of notifications is adjustable, and the bite sized cards include picture depictions of the words wch helps one remember them very easily. That's great! By far the best English language learning app i have come across.. I'm also inclined to good graphics and UI of any app and this one is just that. Use it. You won't regret it. I took the feedback from the app and suggested a few things which I think can help us even more, wch I hope will be addressed soon. Also, the examples of usage of the words should be more than it is rightnow in the app and if each word has an example in two or more tenses then it would give a better understanding of using the word in different situations. Thanks Knudge.me 😊✌103 people found this review helpfulDid you find this helpful?YesNoKnudge.meSeptember 27, 2018Thank you, Roma! We are glad you liked the app and found it helpful. Do share it with your friends. We will definitely look into your feedback and work on it accordingly. Happy learning :) In case you have any other suggestion/ feedback, please write to us at contact@knudge.me\"]"
      ]
     },
     "execution_count": 30,
     "metadata": {},
     "output_type": "execute_result"
    }
   ],
   "source": [
    "#extracting the reviews\n",
    "links=soup.find_all(\"div\",attrs={'class':'EGFGHd'})\n",
    "list_reviews=[]\n",
    "for i in links:\n",
    "    list_reviews.append(i.text)\n",
    "    \n",
    "list_reviews"
   ]
  },
  {
   "cell_type": "code",
   "execution_count": 31,
   "id": "3e6f2b92",
   "metadata": {},
   "outputs": [],
   "source": [
    "#importing mysql connector\n",
    "import mysql.connector"
   ]
  },
  {
   "cell_type": "code",
   "execution_count": 32,
   "id": "cab50ba2",
   "metadata": {},
   "outputs": [],
   "source": [
    "#configurating mysql database\n",
    "db=mysql.connector.connect(\n",
    "    host='localhost',\n",
    "    user='Disha',\n",
    "    password='root08'\n",
    ")"
   ]
  },
  {
   "cell_type": "code",
   "execution_count": 33,
   "id": "5edce173",
   "metadata": {},
   "outputs": [],
   "source": [
    "#for row-by-row processing of result\n",
    "cursor=db.cursor()"
   ]
  },
  {
   "cell_type": "code",
   "execution_count": 34,
   "id": "73c9d48c",
   "metadata": {},
   "outputs": [],
   "source": [
    "#using the database\n",
    "sql=\"USE SCRAPPED_DATA\""
   ]
  },
  {
   "cell_type": "code",
   "execution_count": 35,
   "id": "943657bf",
   "metadata": {},
   "outputs": [],
   "source": [
    "cursor.execute(sql)"
   ]
  },
  {
   "cell_type": "code",
   "execution_count": 39,
   "id": "d1946fee",
   "metadata": {},
   "outputs": [],
   "source": [
    "#inserting values in the table\n",
    "sql=(\"INSERT INTO APP_DETAILS2\"\n",
    "     \"(NAME,MAKER,DOWNLOADS,RATING,REVIEW_COUNT,EMAIL,SIMILAR_APP_LINKS)\"\n",
    "     \"VALUES(%s,%s,%s,%s,%s,%s,%s)\"\n",
    "    ) \n",
    "\n",
    "val=(name,maker,install,rating,reviews,makermail,list_sim_app[0-c+2])\n",
    "cursor.execute(sql,val)\n",
    "db.commit() #applying the changes to the database"
   ]
  },
  {
   "cell_type": "code",
   "execution_count": null,
   "id": "6c4767f8",
   "metadata": {},
   "outputs": [],
   "source": []
  }
 ],
 "metadata": {
  "kernelspec": {
   "display_name": "Python 3",
   "language": "python",
   "name": "python3"
  },
  "language_info": {
   "codemirror_mode": {
    "name": "ipython",
    "version": 3
   },
   "file_extension": ".py",
   "mimetype": "text/x-python",
   "name": "python",
   "nbconvert_exporter": "python",
   "pygments_lexer": "ipython3",
   "version": "3.8.8"
  }
 },
 "nbformat": 4,
 "nbformat_minor": 5
}
