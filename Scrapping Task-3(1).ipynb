{
 "cells": [
  {
   "cell_type": "code",
   "execution_count": 2,
   "id": "5d3a1036",
   "metadata": {},
   "outputs": [],
   "source": [
    "#importing basic libraries required\n",
    "from bs4 import BeautifulSoup\n",
    "import requests\n",
    "import pandas as pd\n",
    "import numpy as np\n",
    "from google_play_scraper import app"
   ]
  },
  {
   "cell_type": "code",
   "execution_count": 3,
   "id": "94fa4482",
   "metadata": {},
   "outputs": [],
   "source": [
    "#the given url\n",
    "URL = \"https://play.google.com/store/apps/details?id=com.galvanizetestprep.vocabbuilder\""
   ]
  },
  {
   "cell_type": "code",
   "execution_count": 4,
   "id": "11c32db8",
   "metadata": {},
   "outputs": [],
   "source": [
    "#adding user agent\n",
    "HEADERS=({'User-Agent':'Mozilla/5.0 (Windows NT 10.0; Win64; x64) AppleWebKit/537.36 (KHTML, like Gecko) Chrome/111.0.0.0 Safari/537.36','Accept-Language':'en-US, en; q=0.5'})"
   ]
  },
  {
   "cell_type": "code",
   "execution_count": 5,
   "id": "41619086",
   "metadata": {},
   "outputs": [],
   "source": [
    "#http request\n",
    "webpage=requests.get(URL,headers=HEADERS)\n",
    "#creating soup object to contain all the data\n",
    "soup=BeautifulSoup(webpage.content,'html.parser')\n",
    "#declaring a dictionary\n",
    "d={'Name':'','Maker':'','Downloads':'','Rating':'','Review Count':'','Email':'','Similar App':[]}"
   ]
  },
  {
   "cell_type": "code",
   "execution_count": 6,
   "id": "e9e526b4",
   "metadata": {},
   "outputs": [],
   "source": [
    "#extracting the name of the app using the h1 attribute and class name\n",
    "name=soup.find(\"h1\",attrs={'class':'Fd93Bb F5UCq p5VxAd'}).text #.text is used to extract the string part\n",
    "#Storing the name in dictionary\n",
    "d['Name']=name"
   ]
  },
  {
   "cell_type": "code",
   "execution_count": 7,
   "id": "3c3510c2",
   "metadata": {},
   "outputs": [
    {
     "data": {
      "text/plain": [
       "'Ultimate GRE® Vocabulary Prep'"
      ]
     },
     "execution_count": 7,
     "metadata": {},
     "output_type": "execute_result"
    }
   ],
   "source": [
    "#printing the name of the app\n",
    "name"
   ]
  },
  {
   "cell_type": "code",
   "execution_count": 8,
   "id": "022ac938",
   "metadata": {},
   "outputs": [],
   "source": [
    "#extracting the developer's name\n",
    "maker=soup.find(\"div\",attrs={'class':'Vbfug auoIOc'}).text\n",
    "#Storing the developer's name in dictionary\n",
    "d['Maker']=maker"
   ]
  },
  {
   "cell_type": "code",
   "execution_count": 9,
   "id": "074bb6cd",
   "metadata": {},
   "outputs": [
    {
     "data": {
      "text/plain": [
       "'Galvanize Test Prep'"
      ]
     },
     "execution_count": 9,
     "metadata": {},
     "output_type": "execute_result"
    }
   ],
   "source": [
    "#printing the name of the developer\n",
    "maker"
   ]
  },
  {
   "cell_type": "code",
   "execution_count": 10,
   "id": "c9c4b3fe",
   "metadata": {},
   "outputs": [],
   "source": [
    "#extracting the rating of the app\n",
    "rating=soup.find(\"div\",attrs={'class':'ClM7O'}).text\n",
    "#Storing the rating in dictionary\n",
    "d['Rating']=rating"
   ]
  },
  {
   "cell_type": "code",
   "execution_count": 11,
   "id": "bc0d13c6",
   "metadata": {},
   "outputs": [
    {
     "data": {
      "text/plain": [
       "'4.7star'"
      ]
     },
     "execution_count": 11,
     "metadata": {},
     "output_type": "execute_result"
    }
   ],
   "source": [
    "#printing the rating of the app\n",
    "rating"
   ]
  },
  {
   "cell_type": "code",
   "execution_count": 12,
   "id": "61121c30",
   "metadata": {},
   "outputs": [],
   "source": [
    "#to extract just the value of rating\n",
    "rating2=soup.find(\"div\",attrs={'class':'jILTFe'}).text"
   ]
  },
  {
   "cell_type": "code",
   "execution_count": 13,
   "id": "a6c11287",
   "metadata": {},
   "outputs": [
    {
     "data": {
      "text/plain": [
       "'4.7'"
      ]
     },
     "execution_count": 13,
     "metadata": {},
     "output_type": "execute_result"
    }
   ],
   "source": [
    "rating2"
   ]
  },
  {
   "cell_type": "code",
   "execution_count": 14,
   "id": "b1ef6892",
   "metadata": {},
   "outputs": [],
   "source": [
    "#extracting the number of reviews\n",
    "reviews=soup.find(\"div\",attrs={'class':'g1rdde'}).text\n",
    "#Storing the review count in dictionary\n",
    "d['Review Count']=reviews"
   ]
  },
  {
   "cell_type": "code",
   "execution_count": 15,
   "id": "db0d972e",
   "metadata": {},
   "outputs": [
    {
     "data": {
      "text/plain": [
       "'10.1K reviews'"
      ]
     },
     "execution_count": 15,
     "metadata": {},
     "output_type": "execute_result"
    }
   ],
   "source": [
    "#printing the review count\n",
    "reviews"
   ]
  },
  {
   "cell_type": "code",
   "execution_count": 16,
   "id": "4ff5a30c",
   "metadata": {},
   "outputs": [
    {
     "data": {
      "text/plain": [
       "{'title': 'Ultimate GRE® Vocabulary Prep',\n",
       " 'description': '<b>The English Vocabulary Builder app from Galvanize Test Prep is a unique learning tool: why study a long and boring list of English words when you can experience a gamified vocabulary journey - one that is bound to be thoughtful, exciting and fun!</b>\\r\\n\\r\\n<b>WARNING: </b>Some students actually found this Vocabulary app to be <b>addictive</b>. Try it and let us know how you feel :-)\\r\\n\\r\\n<b>5 reasons why everyone is so damn crazy about our vocab app:</b>\\r\\n★ <b>Fun and easy way to learn: </b>\\r\\n“Earn” game currency whenever you master words. The more game-money you make, the better. This is a fun way to learn new Vocab words and build your GRE vocabulary.\\r\\n★<b> Confidence booster: </b>\\r\\nGain confidence as the words on the vocab app increase in difficulty. Have fun with flashcards by implementing these English words into your day-to-day vocabulary!\\r\\n★<b> Addictive: </b>\\r\\nWith a pictorial representation accompanying words, examples of the words as used in sentences and many other features you’ll soon be addicted to this vocab builder app.\\r\\n★ <b>Prep for all Tests: </b>\\r\\nThis vocabulary app is the perfect aid to prepare for any competitive exam that include verbal sections like the GRE®, SAT®, GMAT®, CAT®, UPSC®, SSC®, IBPS®, Bank PO, Bank Clerk, MAT®, MBA, IAS®, NDA, AFCAT®, TOEFL®, IELTS®, ESL and all other campus recruitment tests, placement exams, aptitude tests, standardized tests, and competitive exams.\\r\\n\\r\\n★ <b>Best experience ever: </b>\\r\\nWith a simple-to-use interface, you’ll feel like never leaving this vocabulary app.\\r\\n\\r\\n<b>And another bunch of cool features you\\'ll go head over heels for: </b>\\r\\n★ Save time by studying only words you don\\'t already know\\r\\n★ 1800 must-know GRE words to improve English Vocabulary\\r\\n★ Context-based word learning with real-life and fictitious examples\\r\\n★ Understand the Nuances of wordlist - something very important for GRE® English vocabulary\\r\\n★ Long term retention with pictures and flashcards.\\r\\n★ Learn complex GRE®, SAT®, GMAT®, TOEFL®, IELTS® words with crystal clear definitions\\r\\n★ Get examples of the common words used in sentences\\r\\n★ Learn advanced synonyms and antonyms, etymology and perfect pronunciation\\r\\n★ Bookmark difficult words and the most confusing GRE® words to refer to easily anytime\\r\\n★ Get insights into your vocabulary skill-level\\r\\n★ Get notified as to how quickly you’re learning with this wordbot app\\r\\n★ Test your grasp over the vocabulary you learned newly\\r\\n★ With the flashcards on this GRE vocab app, it is easy to build your GRE vocabulary\\r\\n★ The best part is that this wordbot app WORKS OFFLINE!\\r\\n\\r\\n<b>About Galvanize Test Prep:</b>\\r\\nAt Galvanize Test Prep, we focus on delivering the world’s best learning solutions for Standardized tests like GRE®, TOEFL®, and Competitive exams, as well as Global Admissions Counselling. Thousands of students from 190+ countries, each with their own unique story.\\r\\n\\r\\n<b>Any questions?</b>\\r\\nPlease email us at galvanize@entrayn.com if you have any questions or concerns.\\r\\n\\r\\n<b>Note:</b>\\r\\n1) For Android versions 4.1 - 4.4, the app download size is around 25 MB.\\r\\n2) To motivate users to learn English vocabulary words, the app awards points in the form of dollars ($). However, this is just play money, i.e., there is no real monetary value for any \"money\" earned in this vocab game!\\r\\n\\r\\nDisclaimer:\\r\\nGRE®, SAT®, TOEFL®, IELTS® are registered trademarks of the Educational Testing Service (ETS). GMAT® is a registered trademark of the GMAC. SAT® is a registered trademark of The College Board. ETS, GMAC and College Board do not endorse, nor are affiliated in any way with this application.',\n",
       " 'descriptionHTML': '<b>The English Vocabulary Builder app from Galvanize Test Prep is a unique learning tool: why study a long and boring list of English words when you can experience a gamified vocabulary journey - one that is bound to be thoughtful, exciting and fun!</b><br><br><b>WARNING: </b>Some students actually found this Vocabulary app to be <b>addictive</b>. Try it and let us know how you feel :-)<br><br><b>5 reasons why everyone is so damn crazy about our vocab app:</b><br>★ <b>Fun and easy way to learn: </b><br>“Earn” game currency whenever you master words. The more game-money you make, the better. This is a fun way to learn new Vocab words and build your GRE vocabulary.<br>★<b> Confidence booster: </b><br>Gain confidence as the words on the vocab app increase in difficulty. Have fun with flashcards by implementing these English words into your day-to-day vocabulary!<br>★<b> Addictive: </b><br>With a pictorial representation accompanying words, examples of the words as used in sentences and many other features you’ll soon be addicted to this vocab builder app.<br>★ <b>Prep for all Tests: </b><br>This vocabulary app is the perfect aid to prepare for any competitive exam that include verbal sections like the GRE®, SAT®, GMAT®, CAT®, UPSC®, SSC®, IBPS®, Bank PO, Bank Clerk, MAT®, MBA, IAS®, NDA, AFCAT®, TOEFL®, IELTS®, ESL and all other campus recruitment tests, placement exams, aptitude tests, standardized tests, and competitive exams.<br><br>★ <b>Best experience ever: </b><br>With a simple-to-use interface, you’ll feel like never leaving this vocabulary app.<br><br><b>And another bunch of cool features you&#39;ll go head over heels for: </b><br>★ Save time by studying only words you don&#39;t already know<br>★ 1800 must-know GRE words to improve English Vocabulary<br>★ Context-based word learning with real-life and fictitious examples<br>★ Understand the Nuances of wordlist - something very important for GRE® English vocabulary<br>★ Long term retention with pictures and flashcards.<br>★ Learn complex GRE®, SAT®, GMAT®, TOEFL®, IELTS® words with crystal clear definitions<br>★ Get examples of the common words used in sentences<br>★ Learn advanced synonyms and antonyms, etymology and perfect pronunciation<br>★ Bookmark difficult words and the most confusing GRE® words to refer to easily anytime<br>★ Get insights into your vocabulary skill-level<br>★ Get notified as to how quickly you’re learning with this wordbot app<br>★ Test your grasp over the vocabulary you learned newly<br>★ With the flashcards on this GRE vocab app, it is easy to build your GRE vocabulary<br>★ The best part is that this wordbot app WORKS OFFLINE!<br><br><b>About Galvanize Test Prep:</b><br>At Galvanize Test Prep, we focus on delivering the world’s best learning solutions for Standardized tests like GRE®, TOEFL®, and Competitive exams, as well as Global Admissions Counselling. Thousands of students from 190+ countries, each with their own unique story.<br><br><b>Any questions?</b><br>Please email us at galvanize@entrayn.com if you have any questions or concerns.<br><br><b>Note:</b><br>1) For Android versions 4.1 - 4.4, the app download size is around 25 MB.<br>2) To motivate users to learn English vocabulary words, the app awards points in the form of dollars ($). However, this is just play money, i.e., there is no real monetary value for any &quot;money&quot; earned in this vocab game!<br><br>Disclaimer:<br>GRE®, SAT®, TOEFL®, IELTS® are registered trademarks of the Educational Testing Service (ETS). GMAT® is a registered trademark of the GMAC. SAT® is a registered trademark of The College Board. ETS, GMAC and College Board do not endorse, nor are affiliated in any way with this application.',\n",
       " 'summary': 'Build your English vocabulary with 1800 words. For GRE®, SAT® & Everyday Life!',\n",
       " 'installs': '500,000+',\n",
       " 'minInstalls': 500000,\n",
       " 'realInstalls': 609090,\n",
       " 'score': 4.430464,\n",
       " 'ratings': 10119,\n",
       " 'reviews': 708,\n",
       " 'histogram': [803, 334, 334, 870, 7769],\n",
       " 'price': 0,\n",
       " 'free': True,\n",
       " 'currency': 'USD',\n",
       " 'sale': False,\n",
       " 'saleTime': None,\n",
       " 'originalPrice': None,\n",
       " 'saleText': None,\n",
       " 'offersIAP': False,\n",
       " 'inAppProductPrice': None,\n",
       " 'developer': 'Galvanize Test Prep',\n",
       " 'developerId': '6556021796856748024',\n",
       " 'developerEmail': 'galvanize@entrayn.com',\n",
       " 'developerWebsite': 'http://galvanizeTestPrep.com',\n",
       " 'developerAddress': None,\n",
       " 'privacyPolicy': 'https://galvanizetestprep.com/privacy-policy-app/',\n",
       " 'genre': 'Education',\n",
       " 'genreId': 'EDUCATION',\n",
       " 'icon': 'https://play-lh.googleusercontent.com/oD2gaiJyfC5ZPVDuRLsMcjIjVjN3yEPDs3ud0P4CIvAKe2kOOP2IZQmAmMiaGQ_-nA',\n",
       " 'headerImage': 'https://play-lh.googleusercontent.com/zk2tvYn_S8S98fU6X3KylGM7zKDgW7ZVbDMSeAXrPDW0APZ1uS7LXcAfge2ulK_59PM',\n",
       " 'screenshots': ['https://play-lh.googleusercontent.com/pbjwNVs3NgpxY8LkYAyPJ4ANbsk9gcs66WbnYU5J1R7P64LQ53_Ql8uRzucgWwiRfw',\n",
       "  'https://play-lh.googleusercontent.com/JRm2SVYchCUqhwWAdgUpNWsiFGJy58GcVihqizFvYsGMALixFL4oC6w5oJKRvVDIjbk',\n",
       "  'https://play-lh.googleusercontent.com/W--v4pprwRURV5RGUdwyjoIDvahgebM9Z6zsNsXTYe74wk8t9-Xuw6FHg9toaMRmKIb7',\n",
       "  'https://play-lh.googleusercontent.com/Du4AsSpu7CkKAAXil9z0L2bfAjczky0rVy4m5KQZHimQVjGkdtfbjSMEQ8nIJoCA9A',\n",
       "  'https://play-lh.googleusercontent.com/SVZtH7fsR5MYZC9T8dHfzfoEK8o52FGTJZ6s9-iDsrq2_rS9Og7NIZgeLWJBvcx8h1Bz',\n",
       "  'https://play-lh.googleusercontent.com/CDr7OB49eCoKU1Fa-MbMefdMqxG7EXRQN3h1MPykjrWdqCj5refVS49LdMC786PHAAw',\n",
       "  'https://play-lh.googleusercontent.com/yU0uiXOoUBNVlZ1wGgVvPPgCWKy5oTHXgW6xye3VQvYx6-e-iAvWYDRzx_IAj9ERrRuU',\n",
       "  'https://play-lh.googleusercontent.com/EqxL4sqSkEQk4bAx-G-oPwNXEMKYbKCn3bdcWERFgQ0a4wf0tfTuiCrvXZuRMHJMZQ'],\n",
       " 'video': None,\n",
       " 'videoImage': None,\n",
       " 'contentRating': 'Everyone',\n",
       " 'contentRatingDescription': None,\n",
       " 'adSupported': False,\n",
       " 'containsAds': False,\n",
       " 'released': 'May 5, 2017',\n",
       " 'updated': 1640838500,\n",
       " 'version': '0.8.3',\n",
       " 'comments': [],\n",
       " 'appId': 'com.galvanizetestprep.vocabbuilder',\n",
       " 'url': 'https://play.google.com/store/apps/details?id=com.galvanizetestprep.vocabbuilder&hl=en&gl=us'}"
      ]
     },
     "execution_count": 16,
     "metadata": {},
     "output_type": "execute_result"
    }
   ],
   "source": [
    "#to check if any email is present in the description\n",
    "result=app('com.galvanizetestprep.vocabbuilder', lang='en',country='us')#the app function is used to view the detailed information of the app\n",
    "result"
   ]
  },
  {
   "cell_type": "code",
   "execution_count": 17,
   "id": "b1bb2c7f",
   "metadata": {},
   "outputs": [
    {
     "data": {
      "text/plain": [
       "'galvanize@entrayn.com'"
      ]
     },
     "execution_count": 17,
     "metadata": {},
     "output_type": "execute_result"
    }
   ],
   "source": [
    "#extracting and printing the email\n",
    "makermail=result.get('developerEmail')\n",
    "#Storing the email in dictionary\n",
    "d['Email']=makermail\n",
    "makermail"
   ]
  },
  {
   "cell_type": "code",
   "execution_count": 18,
   "id": "cb1358a7",
   "metadata": {},
   "outputs": [
    {
     "name": "stdout",
     "output_type": "stream",
     "text": [
      "500,000+\n",
      "500000\n",
      "609090\n"
     ]
    }
   ],
   "source": [
    "#extracting the total number of downloads\n",
    "install=result.get('installs')#approximated downloads\n",
    "print(install)\n",
    "mininstall=result.get('minInstalls')\n",
    "print(mininstall)\n",
    "realinstall=result.get('realInstalls')#real number of downloads\n",
    "print(realinstall)"
   ]
  },
  {
   "cell_type": "code",
   "execution_count": 19,
   "id": "7234fd6f",
   "metadata": {},
   "outputs": [],
   "source": [
    "#Storing the number of downloads in dictionary\n",
    "d['Downloads']=install"
   ]
  },
  {
   "cell_type": "code",
   "execution_count": 20,
   "id": "0288fab1",
   "metadata": {},
   "outputs": [],
   "source": [
    "#extracting the similar app links using the anchor tag and it's class name\n",
    "links=soup.find_all(\"a\",attrs={'class':'Si6A0c nT2RTe'})\n",
    "#Intialising 2 lists\n",
    "li=[] #to store the basic fetched links\n",
    "list_sim_app=[] #to store the complete links"
   ]
  },
  {
   "cell_type": "code",
   "execution_count": 21,
   "id": "7bd88743",
   "metadata": {},
   "outputs": [],
   "source": [
    "#fetching the basic links using the .get('href') function\n",
    "for i in links:\n",
    "    li.append(i.get('href'))"
   ]
  },
  {
   "cell_type": "code",
   "execution_count": 22,
   "id": "e26a0591",
   "metadata": {},
   "outputs": [],
   "source": [
    "#storing the complete link in the list\n",
    "c=0\n",
    "for i in li:\n",
    "    list_sim_app.append(\"https://play.google.com\"+i)     \n",
    "    c=c+1\n",
    "list_sim_app\n",
    "for i in list_sim_app:\n",
    "    d['Similar App'].append(i)\n",
    "    "
   ]
  },
  {
   "cell_type": "code",
   "execution_count": 23,
   "id": "a3601f50",
   "metadata": {},
   "outputs": [
    {
     "data": {
      "text/plain": [
       "{'Name': 'Ultimate GRE® Vocabulary Prep',\n",
       " 'Maker': 'Galvanize Test Prep',\n",
       " 'Downloads': '500,000+',\n",
       " 'Rating': '4.7star',\n",
       " 'Review Count': '10.1K reviews',\n",
       " 'Email': 'galvanize@entrayn.com',\n",
       " 'Similar App': ['https://play.google.com/store/apps/details?id=com.entrayn.qbapp',\n",
       "  'https://play.google.com/store/apps/details?id=com.galvanizetestprep.SATPrep',\n",
       "  'https://play.google.com/store/apps/details?id=com.knudge.me',\n",
       "  'https://play.google.com/store/apps/details?id=com.gorki.mario.skyeystudio.worddio',\n",
       "  'https://play.google.com/store/apps/details?id=co.wordupapp.app',\n",
       "  'https://play.google.com/store/apps/details?id=com.magoosh.prep.toefl',\n",
       "  'https://play.google.com/store/apps/details?id=tech.memorize.ielts',\n",
       "  'https://play.google.com/store/apps/details?id=com.wordlist.android']}"
      ]
     },
     "execution_count": 23,
     "metadata": {},
     "output_type": "execute_result"
    }
   ],
   "source": [
    "d"
   ]
  },
  {
   "cell_type": "code",
   "execution_count": 24,
   "id": "2b6cb2e8",
   "metadata": {},
   "outputs": [],
   "source": [
    "# data=pd.DataFrame.from_dict(d)\n",
    "# data.to_csv(\"Scraped_data2.csv\",header=True,index=False)"
   ]
  },
  {
   "cell_type": "code",
   "execution_count": 25,
   "id": "e4b17bd9",
   "metadata": {},
   "outputs": [
    {
     "data": {
      "text/plain": [
       "[\"TCOC15 Disha Patilmore_vert Flag inappropriateFebruary 11, 2023I'm enjoying and learning through this app, it's awesome. I have learnt both the meanings of the words and also there synonyms and antonyms. It's really awesome, I loved this app. It take test and let you know where you have missed and again categories them into parts like learnt, revise, memory mode, still learning etc, in this way we know how much we understood and how much we lost. It's a wonderful app.1 person found this review helpfulDid you find this helpful?YesNo\",\n",
       " \"Keethi Rajmore_vert Flag inappropriateJuly 6, 2021Hi, There are some minor bugs which could be resolved ASAP. The app isn't working properly Whenever we play quizzes like -Memory Mode quiz/Almost learnt section and secondly, the guide animation is quite annoying because it pops-up everytime, we are unable select words randomly for learning(revision) & forced to do according to animated feature. It would be better if close[X] button was included in the guide feature. Above all, the app is very good & helps the learning student in a better way.21 people found this review helpfulDid you find this helpful?YesNoGalvanize Test PrepJuly 15, 2021Hello Keethi, sorry for the unpleasant experience you had with our app. We request you to upgrade the app to the latest version as we have fixed the bug. Do write to us at support@entrayn.com if you still face any issue.\",\n",
       " \"A Google usermore_vert Flag inappropriateJanuary 7, 2019The content is Excellent! but the app comes with bugs. sometimes the menu option on right hand upper side doesn't work. Audio, and background music option sometimes stay inactive. And, the major drawback you can't play the games if you don't have 4 cards in the deck! Please fix this and I will come back with 5 stars.12 people found this review helpfulDid you find this helpful?YesNo\"]"
      ]
     },
     "execution_count": 25,
     "metadata": {},
     "output_type": "execute_result"
    }
   ],
   "source": [
    "#extracting the reviews\n",
    "links=soup.find_all(\"div\",attrs={'class':'EGFGHd'})\n",
    "list_reviews=[]\n",
    "for i in links:\n",
    "    list_reviews.append(i.text)\n",
    "    \n",
    "list_reviews"
   ]
  },
  {
   "cell_type": "code",
   "execution_count": 36,
   "id": "c3bb06e4",
   "metadata": {},
   "outputs": [],
   "source": [
    "#importing mysql connector\n",
    "import mysql.connector"
   ]
  },
  {
   "cell_type": "code",
   "execution_count": 37,
   "id": "87e5f0a1",
   "metadata": {},
   "outputs": [],
   "source": [
    "#configurating mysql database\n",
    "db=mysql.connector.connect(\n",
    "    host='localhost',\n",
    "    user='Disha',\n",
    "    password='root08'\n",
    ")"
   ]
  },
  {
   "cell_type": "code",
   "execution_count": 38,
   "id": "f17f89e4",
   "metadata": {},
   "outputs": [],
   "source": [
    "#for row-by-row processing of result\n",
    "cursor=db.cursor()"
   ]
  },
  {
   "cell_type": "code",
   "execution_count": 29,
   "id": "3cc1fe74",
   "metadata": {},
   "outputs": [],
   "source": [
    "#creation of database\n",
    "#sql=\"CREATE DATABASE SCRAPPED_DATA\"\n",
    "#cursor.execute(sql)"
   ]
  },
  {
   "cell_type": "code",
   "execution_count": 39,
   "id": "eeb08513",
   "metadata": {},
   "outputs": [],
   "source": [
    "#using the database\n",
    "sql=\"USE SCRAPPED_DATA\""
   ]
  },
  {
   "cell_type": "code",
   "execution_count": 40,
   "id": "95941db7",
   "metadata": {},
   "outputs": [],
   "source": [
    "#executing the sql command\n",
    "cursor.execute(sql)"
   ]
  },
  {
   "cell_type": "code",
   "execution_count": 32,
   "id": "a08e7e73",
   "metadata": {},
   "outputs": [],
   "source": [
    "#creation of table app_details\n",
    "sql=\"CREATE TABLE APP_DETAILS2(NAME VARCHAR(200), MAKER VARCHAR(200), DOWNLOADS VARCHAR(100), RATING VARCHAR(100), REVIEW_COUNT VARCHAR(100),EMAIL VARCHAR(100), SIMILAR_APP_LINKS VARCHAR(200))\""
   ]
  },
  {
   "cell_type": "code",
   "execution_count": 34,
   "id": "868cef37",
   "metadata": {},
   "outputs": [],
   "source": [
    "#cursor.execute(sql)"
   ]
  },
  {
   "cell_type": "code",
   "execution_count": 41,
   "id": "148dd790",
   "metadata": {},
   "outputs": [],
   "source": [
    "#inserting values in the table\n",
    "sql=(\"INSERT INTO APP_DETAILS2\"\n",
    "     \"(NAME,MAKER,DOWNLOADS,RATING,REVIEW_COUNT,EMAIL,SIMILAR_APP_LINKS)\"\n",
    "     \"VALUES(%s,%s,%s,%s,%s,%s,%s)\"\n",
    "    ) \n",
    "\n",
    "val=(name,maker,install,rating,reviews,makermail,list_sim_app[0-c+2])\n",
    "cursor.execute(sql,val)\n",
    "db.commit() #applying the changes to the database"
   ]
  },
  {
   "cell_type": "code",
   "execution_count": null,
   "id": "86006279",
   "metadata": {},
   "outputs": [],
   "source": []
  }
 ],
 "metadata": {
  "kernelspec": {
   "display_name": "Python 3",
   "language": "python",
   "name": "python3"
  },
  "language_info": {
   "codemirror_mode": {
    "name": "ipython",
    "version": 3
   },
   "file_extension": ".py",
   "mimetype": "text/x-python",
   "name": "python",
   "nbconvert_exporter": "python",
   "pygments_lexer": "ipython3",
   "version": "3.8.8"
  }
 },
 "nbformat": 4,
 "nbformat_minor": 5
}
